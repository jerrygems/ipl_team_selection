import numpy as np
import pandas as pd

batting_data = pd.read_csv("../shubh/Downloads/BATTING STATS - IPL_2022 - BATTING STATS - IPL_2022.csv.csv",encoding='UTF-8')
bowling_data = pd.read_csv("../shubh/Downloads/BOWLING STATS - IPL_2022 - BOWLING STATS - IPL_2022.csv.csv",encoding='UTF-8')

# Handle non-numeric values in Avg column
batting_data['Avg'] = batting_data['Avg'].replace('-', np.nan)
bowling_data['Avg'] = bowling_data['Avg'].replace('-', np.nan)

# Convert Avg to float
batting_data['Avg'] = batting_data['Avg'].astype('float')
bowling_data['Avg'] = bowling_data['Avg'].astype('float')

# Convert other columns to float
batting_data['SR'] = batting_data['SR'].astype('float') 
bowling_data['Econ'] = bowling_data['Econ'].astype('float')
bowling_data['SR'] = bowling_data['SR'].astype('float')

# Drop unnecessary columns
bowling_data.drop(['POS', 'BBI'], axis=1, inplace=True)

batting_stats = batting_data.groupby('Player')[['Runs', 'Avg', 'SR']].sum().sort_values('Runs', ascending=False)
print(batting_stats.head())

bowling_stats = bowling_data.groupby('Player')[['Wkts', 'Avg', 'Econ', 'SR']].sum().sort_values('Wkts', ascending=False) 
print(bowling_stats.head())

top_overseas_bats = batting_data[batting_data['Country'] != 'India'].nlargest(2, 'Runs')
top_overseas_bowlers = bowling_data[bowling_data['Country'] != 'India'].nlargest(3, 'Wkts')

top_indian_bats = batting_data[batting_data['Country'] == 'India'].nlargest(5, 'Runs')
top_indian_bowlers = bowling_data[bowling_data['Country'] == 'India'].nlargest(5, 'Wkts')

team = pd.concat([top_overseas_bats, top_overseas_bowlers, top_indian_bats, top_indian_bowlers])

print("\nTop Batsmen:") 
print(batting_data.nlargest(10, 'Runs')[['Player', 'Runs', 'Avg', 'SR']])

print("\nTop Bowlers:")
print(bowling_data.nlargest(10, 'Wkts')[['Player', 'Wkts', 'Avg', 'Econ', 'SR']])

recommended_team = ['Player 1', 'Player 2']

batting_avg = batting_data[batting_data['Player'].isin(recommended_team)]['Avg'].mean()
bowling_econ = bowling_data[bowling_data['Player'].isin(recommended_team)]['Econ'].mean()

print("\nTeam Validation:")
print("Batting Avg:", batting_avg)
print("Bowling Econ:", bowling_econ)

for player in recommended_team:
    alternate_players = batting_data[~batting_data['Player'].isin(recommended_team)]['Player']
    
    for alternate in alternate_players:
        alternate_team = recommended_team.copy()
        alternate_team[recommended_team.index(player)] = alternate

        batting_avg = batting_data[batting_data['Player'].isin(alternate_team)]['Avg'].mean()
        bowling_econ = bowling_data[bowling_data['Player'].isin(alternate_team)]['Econ'].mean()

        print("\nSensitivity Analysis:")
        print("Replaced %s with %s" % (player, alternate))
        print("New Batting Avg:", batting_avg)
        print("New Bowling Econ:", bowling_econ)
